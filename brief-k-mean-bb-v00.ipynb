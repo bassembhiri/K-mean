{
 "cells": [
  {
   "cell_type": "code",
   "execution_count": 1,
   "metadata": {},
   "outputs": [],
   "source": [
    "# Import some libraries\n",
    "\n",
    "import numpy as np\n",
    "from sklearn.datasets import load_digits\n",
    "import matplotlib.pyplot as plt \n",
    "import pandas as pd\n",
    "\n",
    "# Import some data\n",
    "digits = load_digits()\n",
    "# Show dimensionality\n",
    "#print(digits)"
   ]
  },
  {
   "cell_type": "code",
   "execution_count": 2,
   "metadata": {},
   "outputs": [],
   "source": [
    "# Import some data\n",
    "\n",
    "from sklearn.datasets import load_digits\n",
    "X_digits, y_digits = load_digits(return_X_y=True)"
   ]
  },
  {
   "cell_type": "code",
   "execution_count": 3,
   "metadata": {},
   "outputs": [
    {
     "name": "stdout",
     "output_type": "stream",
     "text": [
      "le type de X_digits est <class 'numpy.ndarray'>\n",
      "le type de y_digits est <class 'numpy.ndarray'>\n"
     ]
    }
   ],
   "source": [
    "#print('le type de digits est',type(digits))\n",
    "print('le type de X_digits est', type(X_digits))\n",
    "print('le type de y_digits est',type(y_digits))"
   ]
  },
  {
   "cell_type": "code",
   "execution_count": 4,
   "metadata": {},
   "outputs": [
    {
     "data": {
      "text/plain": [
       "array([[ 0.,  0.,  5., ...,  0.,  0.,  0.],\n",
       "       [ 0.,  0.,  0., ..., 10.,  0.,  0.],\n",
       "       [ 0.,  0.,  0., ..., 16.,  9.,  0.],\n",
       "       ...,\n",
       "       [ 0.,  0.,  1., ...,  6.,  0.,  0.],\n",
       "       [ 0.,  0.,  2., ..., 12.,  0.,  0.],\n",
       "       [ 0.,  0., 10., ..., 12.,  1.,  0.]])"
      ]
     },
     "execution_count": 4,
     "metadata": {},
     "output_type": "execute_result"
    }
   ],
   "source": [
    "X_digits"
   ]
  },
  {
   "cell_type": "code",
   "execution_count": 5,
   "metadata": {},
   "outputs": [
    {
     "data": {
      "text/plain": [
       "(1797, 64)"
      ]
     },
     "execution_count": 5,
     "metadata": {},
     "output_type": "execute_result"
    }
   ],
   "source": [
    "X_digits.shape"
   ]
  },
  {
   "cell_type": "code",
   "execution_count": 6,
   "metadata": {},
   "outputs": [
    {
     "data": {
      "text/plain": [
       "array([0, 1, 2, ..., 8, 9, 8])"
      ]
     },
     "execution_count": 6,
     "metadata": {},
     "output_type": "execute_result"
    }
   ],
   "source": [
    "y_digits"
   ]
  },
  {
   "cell_type": "code",
   "execution_count": 7,
   "metadata": {},
   "outputs": [
    {
     "data": {
      "text/plain": [
       "(1797,)"
      ]
     },
     "execution_count": 7,
     "metadata": {},
     "output_type": "execute_result"
    }
   ],
   "source": [
    "y_digits.shape\n"
   ]
  },
  {
   "cell_type": "code",
   "execution_count": 8,
   "metadata": {},
   "outputs": [
    {
     "data": {
      "text/plain": [
       "array([ 0.,  0.,  5., 13.,  9.,  1.,  0.,  0.,  0.,  0., 13., 15., 10.,\n",
       "       15.,  5.,  0.,  0.,  3., 15.,  2.,  0., 11.,  8.,  0.,  0.,  4.,\n",
       "       12.,  0.,  0.,  8.,  8.,  0.,  0.,  5.,  8.,  0.,  0.,  9.,  8.,\n",
       "        0.,  0.,  4., 11.,  0.,  1., 12.,  7.,  0.,  0.,  2., 14.,  5.,\n",
       "       10., 12.,  0.,  0.,  0.,  0.,  6., 13., 10.,  0.,  0.,  0.])"
      ]
     },
     "execution_count": 8,
     "metadata": {},
     "output_type": "execute_result"
    }
   ],
   "source": [
    "X_digits[0]"
   ]
  },
  {
   "cell_type": "code",
   "execution_count": 9,
   "metadata": {},
   "outputs": [
    {
     "data": {
      "text/plain": [
       "0"
      ]
     },
     "execution_count": 9,
     "metadata": {},
     "output_type": "execute_result"
    }
   ],
   "source": [
    "y_digits[0]"
   ]
  },
  {
   "cell_type": "code",
   "execution_count": 10,
   "metadata": {},
   "outputs": [
    {
     "name": "stdout",
     "output_type": "stream",
     "text": [
      "Counter({3: 183, 1: 182, 5: 182, 4: 181, 6: 181, 9: 180, 7: 179, 0: 178, 2: 177, 8: 174})\n",
      "Counter({3: 128, 1: 127, 5: 127, 6: 127, 4: 127, 9: 126, 7: 125, 0: 124, 2: 124, 8: 122})\n",
      "Counter({1: 55, 3: 55, 5: 55, 0: 54, 6: 54, 7: 54, 4: 54, 9: 54, 2: 53, 8: 52})\n"
     ]
    }
   ],
   "source": [
    "from collections import Counter\n",
    "import copy\n",
    "from sklearn.model_selection import train_test_split\n",
    "X = copy.deepcopy(X_digits)\n",
    "Y = copy.deepcopy(y_digits)\n",
    "# split into train test sets with stratify\n",
    "X_train, X_test, Y_train, Y_test = train_test_split(X, Y, test_size=0.3, random_state=42, stratify=Y)\n",
    "print(Counter(Y))\n",
    "print(Counter(Y_train))\n",
    "print(Counter(Y_test))"
   ]
  },
  {
   "cell_type": "code",
   "execution_count": 11,
   "metadata": {},
   "outputs": [
    {
     "data": {
      "text/plain": [
       "LogisticRegression(max_iter=2000, multi_class='multinomial')"
      ]
     },
     "execution_count": 11,
     "metadata": {},
     "output_type": "execute_result"
    }
   ],
   "source": [
    "from sklearn.linear_model import LogisticRegression\n",
    "\n",
    "log_reg = LogisticRegression(max_iter=2000,multi_class='multinomial')\n",
    "log_reg.fit(X_train, Y_train)\n"
   ]
  },
  {
   "cell_type": "code",
   "execution_count": 12,
   "metadata": {},
   "outputs": [
    {
     "name": "stdout",
     "output_type": "stream",
     "text": [
      "0.957\n"
     ]
    }
   ],
   "source": [
    "###score\n",
    "scor_log_reg=log_reg.score(X_test, Y_test).round(3)\n",
    "print(scor_log_reg)"
   ]
  },
  {
   "cell_type": "code",
   "execution_count": 13,
   "metadata": {},
   "outputs": [
    {
     "data": {
      "text/plain": [
       "KMeans(init='random', n_clusters=10, random_state=42)"
      ]
     },
     "execution_count": 13,
     "metadata": {},
     "output_type": "execute_result"
    }
   ],
   "source": [
    "from sklearn.cluster import KMeans\n",
    "kmeans01 = KMeans(init=\"random\",\n",
    "                n_clusters=10,\n",
    "                n_init=10,\n",
    "                max_iter=300,\n",
    "               random_state=42\n",
    " )\n",
    "kmeans01.fit(X)"
   ]
  },
  {
   "cell_type": "code",
   "execution_count": 14,
   "metadata": {},
   "outputs": [
    {
     "data": {
      "text/plain": [
       "1165200.9742749"
      ]
     },
     "execution_count": 14,
     "metadata": {},
     "output_type": "execute_result"
    }
   ],
   "source": [
    "kmeans01.inertia_"
   ]
  },
  {
   "cell_type": "code",
   "execution_count": 15,
   "metadata": {},
   "outputs": [
    {
     "data": {
      "text/plain": [
       "array([[ 0.00000000e+00,  1.12612613e-01,  4.00900901e+00,\n",
       "         1.18963964e+01,  1.22882883e+01,  5.30630631e+00,\n",
       "         4.23423423e-01,  1.38777878e-16,  9.00900901e-03,\n",
       "         8.64864865e-01,  8.21171171e+00,  1.35765766e+01,\n",
       "         1.26126126e+01,  9.86036036e+00,  1.50900901e+00,\n",
       "        -8.32667268e-17,  8.67361738e-19,  1.18468468e+00,\n",
       "         8.31981982e+00,  1.19684685e+01,  1.24099099e+01,\n",
       "         9.45045045e+00,  1.01351351e+00,  4.85722573e-17,\n",
       "         4.33680869e-19,  9.23423423e-01,  7.19369369e+00,\n",
       "         1.41171171e+01,  1.42117117e+01,  4.91441441e+00,\n",
       "         2.02702703e-01,  8.67361738e-19,  0.00000000e+00,\n",
       "         7.74774775e-01,  8.03603604e+00,  1.48108108e+01,\n",
       "         1.29144144e+01,  2.18468468e+00,  1.80180180e-02,\n",
       "         0.00000000e+00,  3.46944695e-18,  1.23423423e+00,\n",
       "         1.05000000e+01,  1.20675676e+01,  1.21351351e+01,\n",
       "         4.04054054e+00,  2.02702703e-01,  2.08166817e-17,\n",
       "         1.35135135e-02,  8.46846847e-01,  9.53603604e+00,\n",
       "         1.16036036e+01,  1.20540541e+01,  5.60360360e+00,\n",
       "         6.21621622e-01,  4.50450450e-03,  4.50450450e-03,\n",
       "         1.12612613e-01,  4.20720721e+00,  1.20135135e+01,\n",
       "         1.25675676e+01,  4.87387387e+00,  8.15315315e-01,\n",
       "         9.00900901e-03],\n",
       "       [ 0.00000000e+00,  5.93220339e-01,  8.69491525e+00,\n",
       "         1.46101695e+01,  1.40564972e+01,  7.05649718e+00,\n",
       "         5.87570621e-01,  8.32667268e-17,  1.12994350e-02,\n",
       "         4.18079096e+00,  1.26158192e+01,  9.10169492e+00,\n",
       "         1.12203390e+01,  1.19604520e+01,  1.92090395e+00,\n",
       "         1.12994350e-02,  5.64971751e-03,  1.84745763e+00,\n",
       "         3.51977401e+00,  3.45197740e+00,  1.17344633e+01,\n",
       "         9.94915254e+00,  9.03954802e-01,  3.46944695e-17,\n",
       "         6.50521303e-19,  3.95480226e-02,  9.03954802e-01,\n",
       "         8.25988701e+00,  1.38135593e+01,  6.79661017e+00,\n",
       "         3.10734463e-01,  1.30104261e-18,  0.00000000e+00,\n",
       "         6.21468927e-02,  6.77966102e-01,  4.58192090e+00,\n",
       "         1.17853107e+01,  1.22711864e+01,  2.31638418e+00,\n",
       "         0.00000000e+00,  5.20417043e-18,  4.51977401e-01,\n",
       "         1.43502825e+00,  6.94915254e-01,  4.23163842e+00,\n",
       "         1.23502825e+01,  6.32768362e+00,  5.64971751e-03,\n",
       "         5.20417043e-18,  9.20903955e-01,  7.24858757e+00,\n",
       "         6.57627119e+00,  8.63276836e+00,  1.36949153e+01,\n",
       "         6.05649718e+00,  1.75141243e-01,  3.25260652e-19,\n",
       "         4.74576271e-01,  9.51412429e+00,  1.49887006e+01,\n",
       "         1.41242938e+01,  8.84180791e+00,  1.84180791e+00,\n",
       "         4.18079096e-01],\n",
       "       [ 0.00000000e+00,  2.22044605e-16,  2.90909091e-01,\n",
       "         7.14545455e+00,  1.19272727e+01,  1.89696970e+00,\n",
       "         1.51515152e-01,  5.45454545e-02,  1.73472348e-18,\n",
       "         1.21212121e-02,  3.23030303e+00,  1.37939394e+01,\n",
       "         8.46666667e+00,  1.53333333e+00,  9.81818182e-01,\n",
       "         2.78787879e-01,  8.67361738e-19,  6.42424242e-01,\n",
       "         1.06787879e+01,  1.16121212e+01,  4.36363636e+00,\n",
       "         5.29090909e+00,  3.89696970e+00,  3.27272727e-01,\n",
       "         6.06060606e-03,  4.77575758e+00,  1.47515152e+01,\n",
       "         5.84242424e+00,  6.85454545e+00,  1.07212121e+01,\n",
       "         6.23636364e+00,  1.81818182e-02,  0.00000000e+00,\n",
       "         8.95757576e+00,  1.48000000e+01,  9.32727273e+00,\n",
       "         1.28363636e+01,  1.43878788e+01,  5.47272727e+00,\n",
       "         0.00000000e+00,  9.69696970e-02,  6.53939394e+00,\n",
       "         1.17333333e+01,  1.24181818e+01,  1.49272727e+01,\n",
       "         1.07333333e+01,  1.55757576e+00,  1.38777878e-17,\n",
       "         6.06060606e-02,  1.12121212e+00,  3.01818182e+00,\n",
       "         7.80606061e+00,  1.40969697e+01,  4.10909091e+00,\n",
       "         1.81818182e-02, -2.77555756e-17,  2.16840434e-19,\n",
       "         2.42424242e-02,  3.63636364e-01,  7.95151515e+00,\n",
       "         1.23515152e+01,  1.78181818e+00,  0.00000000e+00,\n",
       "         1.66533454e-16],\n",
       "       [ 0.00000000e+00,  9.42857143e-01,  1.01885714e+01,\n",
       "         1.44400000e+01,  7.77142857e+00,  9.82857143e-01,\n",
       "        -1.11022302e-15,  5.55111512e-17,  2.28571429e-02,\n",
       "         5.24000000e+00,  1.37200000e+01,  1.26228571e+01,\n",
       "         1.16914286e+01,  3.23428571e+00,  1.71428571e-02,\n",
       "        -6.93889390e-17,  1.14285714e-02,  4.56000000e+00,\n",
       "         8.11428571e+00,  6.13714286e+00,  1.21600000e+01,\n",
       "         3.56000000e+00,  1.71428571e-02,  3.46944695e-17,\n",
       "         2.16840434e-19,  9.65714286e-01,  2.81714286e+00,\n",
       "         7.00571429e+00,  1.25371429e+01,  2.56000000e+00,\n",
       "         4.00000000e-02,  4.33680869e-19,  0.00000000e+00,\n",
       "         4.57142857e-02,  1.57142857e+00,  9.89714286e+00,\n",
       "         1.06971429e+01,  1.45142857e+00, -4.44089210e-16,\n",
       "         0.00000000e+00,  1.73472348e-18,  2.51428571e-01,\n",
       "         4.45714286e+00,  1.12457143e+01,  7.74285714e+00,\n",
       "         2.37142857e+00,  8.45714286e-01,  1.14285714e-02,\n",
       "         6.07153217e-18,  1.19428571e+00,  1.09942857e+01,\n",
       "         1.37314286e+01,  1.19257143e+01,  1.11600000e+01,\n",
       "         7.66857143e+00,  1.10285714e+00,  1.08420217e-19,\n",
       "         9.31428571e-01,  1.03885714e+01,  1.44685714e+01,\n",
       "         1.35028571e+01,  1.23542857e+01,  8.96571429e+00,\n",
       "         2.95428571e+00],\n",
       "       [ 0.00000000e+00,  1.69230769e-01,  5.04615385e+00,\n",
       "         1.31025641e+01,  1.41692308e+01,  1.08564103e+01,\n",
       "         4.75384615e+00,  8.15384615e-01,  2.60208521e-18,\n",
       "         1.13333333e+00,  1.06871795e+01,  1.13846154e+01,\n",
       "         1.04615385e+01,  1.26205128e+01,  5.16923077e+00,\n",
       "         4.41025641e-01,  1.30104261e-18,  1.12307692e+00,\n",
       "         5.23589744e+00,  2.20512821e+00,  7.10256410e+00,\n",
       "         1.16820513e+01,  3.09743590e+00,  9.23076923e-02,\n",
       "         8.67361738e-19,  9.28205128e-01,  4.67179487e+00,\n",
       "         6.62051282e+00,  1.24615385e+01,  1.21435897e+01,\n",
       "         4.86153846e+00,  5.12820513e-03,  0.00000000e+00,\n",
       "         1.47692308e+00,  8.86666667e+00,  1.34256410e+01,\n",
       "         1.48820513e+01,  1.07589744e+01,  4.09743590e+00,\n",
       "         0.00000000e+00,  6.93889390e-18,  1.14358974e+00,\n",
       "         5.33333333e+00,  1.18051282e+01,  1.09897436e+01,\n",
       "         3.54871795e+00,  5.64102564e-01,  2.08166817e-17,\n",
       "         5.20417043e-18,  1.07692308e-01,  3.09743590e+00,\n",
       "         1.24461538e+01,  6.06153846e+00,  2.82051282e-01,\n",
       "         1.02564103e-02,  5.55111512e-17,  4.33680869e-19,\n",
       "         1.33333333e-01,  6.37435897e+00,  1.19487179e+01,\n",
       "         2.33846154e+00,  2.61538462e-01,  3.58974359e-02,\n",
       "         5.55111512e-17],\n",
       "       [ 0.00000000e+00,  1.66533454e-16,  1.15934066e+00,\n",
       "         1.12252747e+01,  9.53296703e+00,  1.41758242e+00,\n",
       "         5.49450549e-03,  8.32667268e-17,  8.67361738e-19,\n",
       "         6.04395604e-02,  7.18131868e+00,  1.45604396e+01,\n",
       "         6.19230769e+00,  8.29670330e-01,  2.74725275e-02,\n",
       "        -6.93889390e-17,  4.33680869e-19,  7.69230769e-01,\n",
       "         1.24560440e+01,  9.47252747e+00,  9.34065934e-01,\n",
       "         1.09890110e-01,  0.00000000e+00,  3.46944695e-17,\n",
       "         4.33680869e-19,  2.29670330e+00,  1.36208791e+01,\n",
       "         8.09340659e+00,  3.87362637e+00,  1.92857143e+00,\n",
       "         1.04395604e-01,  8.67361738e-19,  0.00000000e+00,\n",
       "         3.52747253e+00,  1.46758242e+01,  1.29175824e+01,\n",
       "         1.22527473e+01,  1.02857143e+01,  2.71978022e+00,\n",
       "         0.00000000e+00,  3.46944695e-18,  1.86813187e+00,\n",
       "         1.45164835e+01,  1.06538462e+01,  5.57692308e+00,\n",
       "         1.01923077e+01,  9.13186813e+00,  2.30769231e-01,\n",
       "         4.33680869e-18,  1.75824176e-01,  1.02857143e+01,\n",
       "         1.26263736e+01,  5.41758242e+00,  1.13241758e+01,\n",
       "         1.08956044e+01,  6.26373626e-01,  2.16840434e-19,\n",
       "         2.77555756e-16,  1.44505495e+00,  1.07362637e+01,\n",
       "         1.50989011e+01,  1.31318681e+01,  4.62087912e+00,\n",
       "         1.70329670e-01],\n",
       "       [ 0.00000000e+00,  2.23463687e-02,  4.22905028e+00,\n",
       "         1.31396648e+01,  1.12681564e+01,  2.93854749e+00,\n",
       "         3.35195531e-02,  8.32667268e-17,  1.73472348e-18,\n",
       "         8.82681564e-01,  1.26201117e+01,  1.33687151e+01,\n",
       "         1.14078212e+01,  1.13687151e+01,  9.60893855e-01,\n",
       "        -6.93889390e-17,  8.67361738e-19,  3.72625698e+00,\n",
       "         1.42122905e+01,  5.25139665e+00,  2.10614525e+00,\n",
       "         1.21173184e+01,  3.53072626e+00,  2.77555756e-17,\n",
       "         4.33680869e-19,  5.29608939e+00,  1.26424581e+01,\n",
       "         2.03351955e+00,  2.29050279e-01,  9.07821229e+00,\n",
       "         6.47486034e+00,  8.67361738e-19,  0.00000000e+00,\n",
       "         5.88268156e+00,  1.14916201e+01,  8.65921788e-01,\n",
       "         3.35195531e-02,  8.81005587e+00,  7.15083799e+00,\n",
       "         0.00000000e+00,  3.46944695e-18,  3.51396648e+00,\n",
       "         1.32849162e+01,  1.65921788e+00,  1.49162011e+00,\n",
       "         1.13519553e+01,  5.84357542e+00,  1.38777878e-17,\n",
       "         5.20417043e-18,  8.04469274e-01,  1.31117318e+01,\n",
       "         9.96089385e+00,  1.03519553e+01,  1.32960894e+01,\n",
       "         2.47486034e+00,  2.23463687e-02,  2.16840434e-19,\n",
       "         5.58659218e-03,  4.19553073e+00,  1.35865922e+01,\n",
       "         1.33407821e+01,  5.48044693e+00,  3.18435754e-01,\n",
       "         1.67597765e-02],\n",
       "       [ 0.00000000e+00,  1.11022302e-16,  3.22580645e-02,\n",
       "         1.84946237e+00,  1.10645161e+01,  1.25268817e+01,\n",
       "         4.21505376e+00,  2.58064516e-01,  8.67361738e-19,\n",
       "         5.37634409e-02,  1.95698925e+00,  8.93548387e+00,\n",
       "         1.37741935e+01,  1.24301075e+01,  5.27956989e+00,\n",
       "         3.22580645e-01,  4.33680869e-19,  1.56989247e+00,\n",
       "         8.66666667e+00,  1.24408602e+01,  1.19032258e+01,\n",
       "         1.28387097e+01,  3.98924731e+00,  1.39784946e-01,\n",
       "         0.00000000e+00,  3.55913978e+00,  1.19784946e+01,\n",
       "         1.17634409e+01,  1.29354839e+01,  1.35376344e+01,\n",
       "         2.61290323e+00,  0.00000000e+00,  0.00000000e+00,\n",
       "         1.94623656e+00,  6.87096774e+00,  7.44086022e+00,\n",
       "         1.18172043e+01,  1.26021505e+01,  1.89247312e+00,\n",
       "         0.00000000e+00,  0.00000000e+00,  7.84946237e-01,\n",
       "         2.01075269e+00,  3.77419355e+00,  1.16774194e+01,\n",
       "         1.19354839e+01,  1.20430108e+00,  6.93889390e-18,\n",
       "         1.73472348e-18,  6.45161290e-02,  3.11827957e-01,\n",
       "         3.02150538e+00,  1.24623656e+01,  1.16021505e+01,\n",
       "         1.65591398e+00, -5.55111512e-17,  0.00000000e+00,\n",
       "         1.11022302e-16,  8.88178420e-16,  1.96774194e+00,\n",
       "         1.13978495e+01,  1.05698925e+01,  1.68817204e+00,\n",
       "         0.00000000e+00],\n",
       "       [ 0.00000000e+00,  1.03125000e+00,  9.49375000e+00,\n",
       "         1.31437500e+01,  1.40750000e+01,  1.24875000e+01,\n",
       "         4.55625000e+00,  2.43750000e-01,  6.25000000e-03,\n",
       "         4.30625000e+00,  1.47062500e+01,  1.26375000e+01,\n",
       "         8.73125000e+00,  7.28125000e+00,  2.95625000e+00,\n",
       "         1.81250000e-01,  1.25000000e-02,  5.86875000e+00,\n",
       "         1.44250000e+01,  5.83750000e+00,  1.95625000e+00,\n",
       "         1.49375000e+00,  6.50000000e-01,  3.12500000e-02,\n",
       "         6.25000000e-03,  5.10000000e+00,  1.43875000e+01,\n",
       "         1.19187500e+01,  7.79375000e+00,  2.85000000e+00,\n",
       "         2.93750000e-01,  4.33680869e-19,  0.00000000e+00,\n",
       "         1.85000000e+00,  7.93750000e+00,  9.88750000e+00,\n",
       "         1.02375000e+01,  5.68125000e+00,  6.43750000e-01,\n",
       "         0.00000000e+00,  1.73472348e-18,  2.93750000e-01,\n",
       "         1.40625000e+00,  4.93125000e+00,  9.93125000e+00,\n",
       "         6.91875000e+00,  7.43750000e-01,  1.04083409e-17,\n",
       "         4.33680869e-18,  8.00000000e-01,  4.93750000e+00,\n",
       "         9.47500000e+00,  1.21312500e+01,  5.11250000e+00,\n",
       "         4.12500000e-01, -5.55111512e-17,  1.08420217e-19,\n",
       "         9.81250000e-01,  1.02312500e+01,  1.44000000e+01,\n",
       "         7.93750000e+00,  1.07500000e+00,  1.87500000e-02,\n",
       "         1.66533454e-16],\n",
       "       [ 0.00000000e+00,  1.96787149e-01,  6.50200803e+00,\n",
       "         1.24939759e+01,  1.18514056e+01,  5.67871486e+00,\n",
       "         6.82730924e-01,  8.03212851e-03,  4.01606426e-03,\n",
       "         2.60240964e+00,  1.39839357e+01,  9.24096386e+00,\n",
       "         9.46184739e+00,  1.04377510e+01,  1.32128514e+00,\n",
       "         4.01606426e-03,  1.73472348e-18,  4.29718876e+00,\n",
       "         1.28433735e+01,  4.51004016e+00,  6.91967871e+00,\n",
       "         1.11365462e+01,  1.89558233e+00,  8.32667268e-17,\n",
       "        -2.16840434e-19,  2.30923695e+00,  1.03775100e+01,\n",
       "         1.17951807e+01,  1.32048193e+01,  1.20481928e+01,\n",
       "         2.46184739e+00, -4.33680869e-19,  0.00000000e+00,\n",
       "         3.01204819e-01,  3.17670683e+00,  6.16064257e+00,\n",
       "         6.80321285e+00,  1.12449799e+01,  4.24899598e+00,\n",
       "         0.00000000e+00, -1.73472348e-18,  2.28915663e-01,\n",
       "         2.38152610e+00,  1.97590361e+00,  1.71084337e+00,\n",
       "         1.09879518e+01,  6.39357430e+00,  1.60642570e-02,\n",
       "         2.60208521e-18,  7.63052209e-01,  8.13654618e+00,\n",
       "         5.64658635e+00,  4.75100402e+00,  1.22369478e+01,\n",
       "         5.98795181e+00,  1.12449799e-01, -1.08420217e-19,\n",
       "         1.68674699e-01,  6.41365462e+00,  1.34819277e+01,\n",
       "         1.44899598e+01,  9.93975904e+00,  2.30923695e+00,\n",
       "         1.12449799e-01]])"
      ]
     },
     "execution_count": 15,
     "metadata": {},
     "output_type": "execute_result"
    }
   ],
   "source": [
    "kmeans01.cluster_centers_"
   ]
  },
  {
   "cell_type": "code",
   "execution_count": 16,
   "metadata": {},
   "outputs": [
    {
     "data": {
      "text/plain": [
       "25"
      ]
     },
     "execution_count": 16,
     "metadata": {},
     "output_type": "execute_result"
    }
   ],
   "source": [
    "kmeans01.n_iter_"
   ]
  },
  {
   "cell_type": "code",
   "execution_count": 17,
   "metadata": {},
   "outputs": [
    {
     "data": {
      "text/plain": [
       "array([6, 0, 0, 1, 2, 9, 5, 4, 9], dtype=int32)"
      ]
     },
     "execution_count": 17,
     "metadata": {},
     "output_type": "execute_result"
    }
   ],
   "source": [
    "kmeans01.labels_[:9]"
   ]
  },
  {
   "cell_type": "code",
   "execution_count": 18,
   "metadata": {},
   "outputs": [
    {
     "data": {
      "text/plain": [
       "array([0, 1, 2, 3, 4, 5, 6, 7, 8])"
      ]
     },
     "execution_count": 18,
     "metadata": {},
     "output_type": "execute_result"
    }
   ],
   "source": [
    "Y[:9]"
   ]
  },
  {
   "cell_type": "code",
   "execution_count": 19,
   "metadata": {},
   "outputs": [
    {
     "name": "stdout",
     "output_type": "stream",
     "text": [
      "0.6638987500911692\n"
     ]
    }
   ],
   "source": [
    "from sklearn.metrics import adjusted_rand_score\n",
    "ari_kmeans01 = adjusted_rand_score(Y, kmeans01.labels_)\n",
    "print(ari_kmeans01)"
   ]
  },
  {
   "cell_type": "code",
   "execution_count": 20,
   "metadata": {},
   "outputs": [],
   "source": [
    "\n",
    "# Pour chaque cluster on essaie de trouver l'image  la plus proche de centroid\n",
    "X_digits_dist_01 = kmeans01.fit_transform(X_train)\n",
    "representative_digit_idx_01 = np.argmin(X_digits_dist_01, axis=0)\n",
    "X_representative_digits_01 = X_train[representative_digit_idx_01]\n",
    "X_representative_digits_01_re=X_representative_digits_01.reshape(10,8,8)# on fait reshape pour pouvoir la visualiser "
   ]
  },
  {
   "cell_type": "code",
   "execution_count": 21,
   "metadata": {},
   "outputs": [
    {
     "data": {
      "text/plain": [
       "(10, 64)"
      ]
     },
     "execution_count": 21,
     "metadata": {},
     "output_type": "execute_result"
    }
   ],
   "source": [
    "X_representative_digits_01.shape\n"
   ]
  },
  {
   "cell_type": "code",
   "execution_count": 22,
   "metadata": {},
   "outputs": [
    {
     "data": {
      "text/plain": [
       "array([ 0.,  0.,  3., 15., 13.,  2.,  0.,  0.,  0.,  0., 10., 16., 12.,\n",
       "       13.,  0.,  0.,  0.,  0., 13., 13.,  9., 14.,  0.,  0.,  0.,  0.,\n",
       "        6., 15., 15., 11.,  0.,  0.,  0.,  0.,  4., 16., 14.,  1.,  0.,\n",
       "        0.,  0.,  0., 11., 14., 15.,  5.,  0.,  0.,  0.,  0.,  9., 10.,\n",
       "       14.,  9.,  0.,  0.,  0.,  0.,  4., 16., 15.,  2.,  0.,  0.])"
      ]
     },
     "execution_count": 22,
     "metadata": {},
     "output_type": "execute_result"
    }
   ],
   "source": [
    "X_representative_digits_01[0,:]"
   ]
  },
  {
   "cell_type": "code",
   "execution_count": 23,
   "metadata": {},
   "outputs": [
    {
     "data": {
      "text/plain": [
       "(1797, 8, 8)"
      ]
     },
     "execution_count": 23,
     "metadata": {},
     "output_type": "execute_result"
    }
   ],
   "source": [
    "digits.images.shape"
   ]
  },
  {
   "cell_type": "code",
   "execution_count": 24,
   "metadata": {},
   "outputs": [
    {
     "data": {
      "text/plain": [
       "(8, 8)"
      ]
     },
     "execution_count": 24,
     "metadata": {},
     "output_type": "execute_result"
    }
   ],
   "source": [
    "digits.images[0].shape"
   ]
  },
  {
   "cell_type": "code",
   "execution_count": 25,
   "metadata": {},
   "outputs": [
    {
     "data": {
      "image/png": "[encoded data removed]",
      "text/plain": [
       "<Figure size 288x288 with 1 Axes>"
      ]
     },
     "metadata": {
      "needs_background": "light"
     },
     "output_type": "display_data"
    }
   ],
   "source": [
    "# Show one data\n",
    "\n",
    "#plt.gray() \n",
    "plt.matshow(X_representative_digits_01_re[0,:],cmap='gray',vmin=0, vmax=16) \n",
    "plt.show()\n"
   ]
  },
  {
   "cell_type": "code",
   "execution_count": 26,
   "metadata": {},
   "outputs": [
    {
     "data": {
      "image/png": "[encoded data removed]",
      "text/plain": [
       "<Figure size 1152x1152 with 10 Axes>"
      ]
     },
     "metadata": {
      "needs_background": "light"
     },
     "output_type": "display_data"
    }
   ],
   "source": [
    "# Show several data for each label (== category) \n",
    "n_clusters=10\n",
    "\n",
    "n_digits = np.unique(Y)\n",
    "M = n_clusters # nombre des clusters\n",
    "fig, axs = plt.subplots(1, M, figsize=(16, 16))\n",
    "\n",
    "for i in range(M):\n",
    "    axs[i].imshow(X_representative_digits_01_re[i,:],cmap='gray',vmin=0, vmax=16)\n",
    "    axs[i].axis('off')"
   ]
  },
  {
   "cell_type": "code",
   "execution_count": 27,
   "metadata": {},
   "outputs": [
    {
     "data": {
      "text/plain": [
       "KMeans(init='random', n_clusters=10, random_state=42)"
      ]
     },
     "execution_count": 27,
     "metadata": {},
     "output_type": "execute_result"
    }
   ],
   "source": [
    "from sklearn.preprocessing import StandardScaler\n",
    "\n",
    "scaler02 = StandardScaler()\n",
    "X_scaled = scaler02.fit_transform(X)\n",
    "\n",
    "kmeans02 = KMeans(init=\"random\",\n",
    "                n_clusters=10,\n",
    "                n_init=10,\n",
    "                max_iter=300,\n",
    "               random_state=42\n",
    " )\n",
    "kmeans02.fit(X_scaled)"
   ]
  },
  {
   "cell_type": "code",
   "execution_count": 28,
   "metadata": {},
   "outputs": [
    {
     "name": "stdout",
     "output_type": "stream",
     "text": [
      "69671.80496339034\n"
     ]
    }
   ],
   "source": [
    "print(kmeans02.inertia_)"
   ]
  },
  {
   "cell_type": "code",
   "execution_count": 29,
   "metadata": {},
   "outputs": [
    {
     "name": "stdout",
     "output_type": "stream",
     "text": [
      "[7 8 8 6 4 6 2 0 6]\n",
      "[0 1 2 3 4 5 6 7 8]\n"
     ]
    }
   ],
   "source": [
    "print(kmeans02.labels_[:9])\n",
    "print(Y[:9])"
   ]
  },
  {
   "cell_type": "code",
   "execution_count": 30,
   "metadata": {},
   "outputs": [
    {
     "name": "stdout",
     "output_type": "stream",
     "text": [
      "0.5712475639827101\n"
     ]
    }
   ],
   "source": [
    "from sklearn.metrics import adjusted_rand_score\n",
    "ari_kmeans02 = adjusted_rand_score(Y, kmeans02.labels_)\n",
    "print(ari_kmeans02)"
   ]
  },
  {
   "cell_type": "code",
   "execution_count": 31,
   "metadata": {},
   "outputs": [
    {
     "data": {
      "image/png": "[encoded data removed]",
      "text/plain": [
       "<Figure size 1152x1152 with 10 Axes>"
      ]
     },
     "metadata": {
      "needs_background": "light"
     },
     "output_type": "display_data"
    }
   ],
   "source": [
    "# Pour chaque cluster on essaie de trouver l'image  la plus proche de centroid\n",
    "# Pour chaque cluster on essaie de trouver l'image  la plus proche de centroid\n",
    "X_digits_dist_02 = kmeans02.fit_transform(X_scaled)\n",
    "representative_digit_idx_02 = np.argmin(X_digits_dist_02, axis=0)\n",
    "X_representative_digits_02 = X_scaled[representative_digit_idx_02]\n",
    "X_representative_digits_02_re=X_representative_digits_02.reshape(10,8,8)# on fait reshape pour pouvoir la visualiser \n",
    "\n",
    "# Show several data for each label (== category) \n",
    "\n",
    "\n",
    "M = 10 # nombre des clusters\n",
    "fig, axs = plt.subplots(1, M, figsize=(16, 16))\n",
    "\n",
    "for i in range(M):\n",
    "    axs[i].imshow(X_representative_digits_02_re[i,:],cmap='gray',vmin=0, vmax=16)\n",
    "    axs[i].axis('off')\n"
   ]
  },
  {
   "cell_type": "code",
   "execution_count": 32,
   "metadata": {},
   "outputs": [],
   "source": [
    "# Pour chaque cluster on essaie de trouver l'image  la plus proche de centroid\n",
    "# Pour chaque cluster on essaie de trouver l'image  la plus proche de centroid\n",
    "X_digits_dist_02 = kmeans02.fit_transform(X_scaled)\n",
    "\n"
   ]
  },
  {
   "cell_type": "code",
   "execution_count": 33,
   "metadata": {},
   "outputs": [
    {
     "data": {
      "text/plain": [
       "(1797, 10)"
      ]
     },
     "execution_count": 33,
     "metadata": {},
     "output_type": "execute_result"
    }
   ],
   "source": [
    "X_digits_dist_02.shape"
   ]
  },
  {
   "cell_type": "code",
   "execution_count": 34,
   "metadata": {},
   "outputs": [
    {
     "data": {
      "text/plain": [
       "(10,)"
      ]
     },
     "execution_count": 34,
     "metadata": {},
     "output_type": "execute_result"
    }
   ],
   "source": [
    "representative_digit_idx_02 = np.argmin(X_digits_dist_02, axis=0)\n",
    "representative_digit_idx_02.shape"
   ]
  },
  {
   "cell_type": "code",
   "execution_count": 71,
   "metadata": {},
   "outputs": [
    {
     "data": {
      "text/plain": [
       "array([1735,  742,  636,  487, 1190, 1617, 1173,  822, 1249, 1714,  717,\n",
       "        439, 1110, 1063, 1135,  339, 1489,  390,  440,  851,   78,  968,\n",
       "         17, 1112, 1589,  154,  217,  718, 1137, 1400])"
      ]
     },
     "execution_count": 71,
     "metadata": {},
     "output_type": "execute_result"
    }
   ],
   "source": [
    "representative_digit_idx_02"
   ]
  },
  {
   "cell_type": "code",
   "execution_count": 35,
   "metadata": {},
   "outputs": [
    {
     "data": {
      "text/plain": [
       "(10, 64)"
      ]
     },
     "execution_count": 35,
     "metadata": {},
     "output_type": "execute_result"
    }
   ],
   "source": [
    "X_representative_digits_02 = X_scaled[representative_digit_idx_02]\n",
    "X_representative_digits_02.shape"
   ]
  },
  {
   "cell_type": "code",
   "execution_count": 36,
   "metadata": {},
   "outputs": [
    {
     "data": {
      "text/plain": [
       "(10, 64)"
      ]
     },
     "execution_count": 36,
     "metadata": {},
     "output_type": "execute_result"
    }
   ],
   "source": [
    "# on doit faire une transformation pour pouvoir les images originalles correspondantes\n",
    "X_representative_digits_02_org = scaler02.inverse_transform((X_representative_digits_02))\n",
    "\n",
    "X_representative_digits_02_org.shape\n"
   ]
  },
  {
   "cell_type": "code",
   "execution_count": 37,
   "metadata": {},
   "outputs": [
    {
     "data": {
      "image/png": "[encoded data removed]",
      "text/plain": [
       "<Figure size 1152x1152 with 10 Axes>"
      ]
     },
     "metadata": {
      "needs_background": "light"
     },
     "output_type": "display_data"
    }
   ],
   "source": [
    "X_representative_digits_02_org_re=X_representative_digits_02_org.reshape(10,8,8)# on fait reshape pour pouvoir la visualiser \n",
    "\n",
    "# Show several data for each label (== category) \n",
    "\n",
    "\n",
    "M = n_clusters # nombre des clusters\n",
    "fig, axs = plt.subplots(1, M, figsize=(16, 16))\n",
    "\n",
    "for i in range(M):\n",
    "    axs[i].imshow(X_representative_digits_02_org_re[i,:],cmap='gray',vmin=0, vmax=16)\n",
    "    axs[i].axis('off')\n"
   ]
  },
  {
   "cell_type": "code",
   "execution_count": 38,
   "metadata": {},
   "outputs": [
    {
     "name": "stdout",
     "output_type": "stream",
     "text": [
      "# digits: 10; # samples: 1797; # features 64\n"
     ]
    }
   ],
   "source": [
    "data, labels = load_digits(return_X_y=True)\n",
    "(n_samples, n_features), n_digits = data.shape, np.unique(labels).size\n",
    "\n",
    "print(\n",
    "    f\"# digits: {n_digits}; # samples: {n_samples}; # features {n_features}\"\n",
    ")"
   ]
  },
  {
   "cell_type": "code",
   "execution_count": 39,
   "metadata": {},
   "outputs": [],
   "source": [
    "from time import time\n",
    "from sklearn import metrics\n",
    "from sklearn.pipeline import make_pipeline\n",
    "from sklearn.preprocessing import StandardScaler\n",
    "\n",
    "\n",
    "def bench_k_means(kmeans, name, data, labels):\n",
    "    \"\"\"Benchmark to evaluate the KMeans initialization methods.\n",
    "\n",
    "    Parameters\n",
    "    ----------\n",
    "    kmeans : KMeans instance\n",
    "        A :class:`~sklearn.cluster.KMeans` instance with the initialization\n",
    "        already set.\n",
    "    name : str\n",
    "        Name given to the strategy. It will be used to show the results in a\n",
    "        table.\n",
    "    data : ndarray of shape (n_samples, n_features)\n",
    "        The data to cluster.\n",
    "    labels : ndarray of shape (n_samples,)\n",
    "        The labels used to compute the clustering metrics which requires some\n",
    "        supervision.\n",
    "    \"\"\"\n",
    "    t0 = time()\n",
    "    estimator = make_pipeline(StandardScaler(), kmeans).fit(data)\n",
    "    fit_time = time() - t0\n",
    "    results = [name, fit_time, estimator[-1].inertia_]\n",
    "\n",
    "    # Define the metrics which require only the true labels and estimator\n",
    "    # labels\n",
    "    clustering_metrics = [\n",
    "        metrics.homogeneity_score,\n",
    "        metrics.completeness_score,\n",
    "        metrics.v_measure_score,\n",
    "        metrics.adjusted_rand_score,\n",
    "        metrics.adjusted_mutual_info_score,\n",
    "    ]\n",
    "    results += [m(labels, estimator[-1].labels_) for m in clustering_metrics]\n",
    "\n",
    "    # The silhouette score requires the full dataset\n",
    "    results += [\n",
    "        metrics.silhouette_score(data, estimator[-1].labels_,\n",
    "                                 metric=\"euclidean\", sample_size=300,)\n",
    "    ]\n",
    "\n",
    "    # Show the results\n",
    "    formatter_result = (\"{:9s}\\t{:.3f}s\\t{:.0f}\\t{:.3f}\\t{:.3f}\"\n",
    "                        \"\\t{:.3f}\\t{:.3f}\\t{:.3f}\\t{:.3f}\")\n",
    "    print(formatter_result.format(*results))"
   ]
  },
  {
   "cell_type": "code",
   "execution_count": 70,
   "metadata": {},
   "outputs": [
    {
     "name": "stdout",
     "output_type": "stream",
     "text": [
      "__________________________________________________________________________________\n",
      "init\t\ttime\tinertia\thomo\tcompl\tv-meas\tARI\tAMI\tsilhouette\n",
      "k-means++\t0.907s\t44425\t0.842\t0.631\t0.721\t0.549\t0.713\t0.115\n",
      "random   \t0.494s\t46466\t0.845\t0.629\t0.721\t0.558\t0.713\t0.124\n",
      "PCA-based\t0.044s\t47997\t0.820\t0.604\t0.696\t0.525\t0.688\t0.131\n",
      "__________________________________________________________________________________\n"
     ]
    }
   ],
   "source": [
    "from sklearn.cluster import KMeans\n",
    "from sklearn.decomposition import PCA\n",
    "\n",
    "n=3\n",
    "print(82 * '_')\n",
    "print('init\\t\\ttime\\tinertia\\thomo\\tcompl\\tv-meas\\tARI\\tAMI\\tsilhouette')\n",
    "\n",
    "kmeans = KMeans(init=\"k-means++\", n_clusters=n*n_digits, n_init=n*4,\n",
    "                random_state=0)\n",
    "bench_k_means(kmeans=kmeans, name=\"k-means++\", data=data, labels=labels)\n",
    "\n",
    "kmeans = KMeans(init=\"random\", n_clusters=n*n_digits, n_init=n*4, random_state=0)\n",
    "bench_k_means(kmeans=kmeans, name=\"random\", data=data, labels=labels)\n",
    "\n",
    "pca = PCA(n_components=n*n_digits).fit(data)\n",
    "kmeans = KMeans(init=pca.components_, n_clusters=n*n_digits, n_init=1)\n",
    "bench_k_means(kmeans=kmeans, name=\"PCA-based\", data=data, labels=labels)\n",
    "\n",
    "print(82 * '_')"
   ]
  },
  {
   "cell_type": "code",
   "execution_count": 52,
   "metadata": {},
   "outputs": [
    {
     "data": {
      "image/png": "[encoded data removed]",
      "text/plain": [
       "<Figure size 432x288 with 1 Axes>"
      ]
     },
     "metadata": {},
     "output_type": "display_data"
    }
   ],
   "source": [
    "import matplotlib.pyplot as plt\n",
    "Pca=PCA(n_components=2)\n",
    "reduced_data = Pca.fit_transform(data)\n",
    "kmeans = KMeans(init=\"k-means++\", n_clusters=n*n_digits, n_init=2*4)\n",
    "kmeans.fit(reduced_data)\n",
    "\n",
    "# Step size of the mesh. Decrease to increase the quality of the VQ.\n",
    "h = .02     # point in the mesh [x_min, x_max]x[y_min, y_max].\n",
    "\n",
    "# Plot the decision boundary. For that, we will assign a color to each\n",
    "x_min, x_max = reduced_data[:, 0].min() - 1, reduced_data[:, 0].max() + 1\n",
    "y_min, y_max = reduced_data[:, 1].min() - 1, reduced_data[:, 1].max() + 1\n",
    "xx, yy = np.meshgrid(np.arange(x_min, x_max, h), np.arange(y_min, y_max, h))\n",
    "\n",
    "# Obtain labels for each point in mesh. Use last trained model.\n",
    "Z = kmeans.predict(np.c_[xx.ravel(), yy.ravel()])\n",
    "\n",
    "# Put the result into a color plot\n",
    "Z = Z.reshape(xx.shape)\n",
    "plt.figure(1)\n",
    "plt.clf()\n",
    "plt.imshow(Z, interpolation=\"nearest\",\n",
    "           extent=(xx.min(), xx.max(), yy.min(), yy.max()),\n",
    "           cmap=plt.cm.Paired, aspect=\"auto\", origin=\"lower\")\n",
    "\n",
    "plt.plot(reduced_data[:, 0], reduced_data[:, 1], 'k.', markersize=2)\n",
    "# Plot the centroids as a white X\n",
    "centroids = kmeans.cluster_centers_\n",
    "plt.scatter(centroids[:, 0], centroids[:, 1], marker=\"x\", s=169, linewidths=3,\n",
    "            color=\"w\", zorder=10)\n",
    "plt.title(\"K-means clustering on the digits dataset (PCA-reduced data)\\n\"\n",
    "          \"Centroids are marked with white cross\")\n",
    "plt.xlim(x_min, x_max)\n",
    "plt.ylim(y_min, y_max)\n",
    "plt.xticks(())\n",
    "plt.yticks(())\n",
    "plt.show()"
   ]
  },
  {
   "cell_type": "code",
   "execution_count": 51,
   "metadata": {},
   "outputs": [
    {
     "data": {
      "text/plain": [
       "(30, 2)"
      ]
     },
     "execution_count": 51,
     "metadata": {},
     "output_type": "execute_result"
    }
   ],
   "source": [
    "centroids.shape"
   ]
  },
  {
   "cell_type": "code",
   "execution_count": 54,
   "metadata": {},
   "outputs": [
    {
     "data": {
      "text/plain": [
       "(30, 64)"
      ]
     },
     "execution_count": 54,
     "metadata": {},
     "output_type": "execute_result"
    }
   ],
   "source": [
    "# on doit faire une transformation pour pouvoir les images originalles correspondantes\n",
    "centroids_org = Pca.inverse_transform((centroids))\n",
    "\n",
    "centroids_org.shape"
   ]
  },
  {
   "cell_type": "code",
   "execution_count": 59,
   "metadata": {},
   "outputs": [
    {
     "data": {
      "image/png": "[encoded data removed]",
      "text/plain": [
       "<Figure size 1152x1152 with 10 Axes>"
      ]
     },
     "metadata": {
      "needs_background": "light"
     },
     "output_type": "display_data"
    }
   ],
   "source": [
    "centroids_org_re=centroids_org.reshape(30,8,8)# on fait reshape pour pouvoir la visualiser \n",
    "\n",
    "# Show several data for each label (== category) \n",
    "\n",
    "\n",
    "M = n_digits # nombre des clusters\n",
    "fig, axs = plt.subplots(1, M, figsize=(16, 16))\n",
    "\n",
    "for i in range(M):\n",
    "    axs[i].imshow(centroids_org_re[i,:],cmap='gray',vmin=0, vmax=16)\n",
    "    axs[i].axis('off')"
   ]
  },
  {
   "cell_type": "code",
   "execution_count": 64,
   "metadata": {},
   "outputs": [
    {
     "data": {
      "image/png": "[encoded data removed]",
      "text/plain": [
       "<Figure size 1152x1152 with 10 Axes>"
      ]
     },
     "metadata": {
      "needs_background": "light"
     },
     "output_type": "display_data"
    }
   ],
   "source": [
    "## Pour chaque cluster on essaie de trouver l'image  la plus proche de centroid\n",
    "## Pour chaque cluster on essaie de trouver l'image  la plus proche de centroid\n",
    "#X_digits_dist_02 = kmeans.fit_transform(reduced_data)\n",
    "#representative_digit_idx_02 = np.argmin(X_digits_dist_02, axis=0)\n",
    "#X_representative_digits_02 = reduced_data[representative_digit_idx_02]\n",
    "#X_representative_digits_02_org = Pca.inverse_transform((X_representative_digits_02))\n",
    "#X_representative_digits_02_org_re=X_representative_digits_02_org.reshape(30,8,8)# on fait reshape pour pouvoir la visualiser \n",
    "\n",
    "##Show several data for each label (== category) \n",
    "\n",
    "\n",
    "#M = 10 # nombre des clusters\n",
    "#fig, axs = plt.subplots(1, M, figsize=(16, 16))\n",
    "\n",
    "#for i in range(M):\n",
    "   # axs[i].imshow(X_representative_digits_02_re[i,:],cmap='gray',vmin=0, vmax=16)\n",
    "   # axs[i].axis('off')"
   ]
  },
  {
   "cell_type": "code",
   "execution_count": null,
   "metadata": {},
   "outputs": [],
   "source": []
  }
 ],
 "metadata": {
  "hide_input": false,
  "kernelspec": {
   "display_name": "Python 3",
   "language": "python",
   "name": "python3"
  },
  "language_info": {
   "codemirror_mode": {
    "name": "ipython",
    "version": 3
   },
   "file_extension": ".py",
   "mimetype": "text/x-python",
   "name": "python",
   "nbconvert_exporter": "python",
   "pygments_lexer": "ipython3",
   "version": "3.8.5"
  },
  "latex_envs": {
   "LaTeX_envs_menu_present": true,
   "autoclose": false,
   "autocomplete": true,
   "bibliofile": "biblio.bib",
   "cite_by": "apalike",
   "current_citInitial": 1,
   "eqLabelWithNumbers": true,
   "eqNumInitial": 1,
   "hotkeys": {
    "equation": "Ctrl-E",
    "itemize": "Ctrl-I"
   },
   "labels_anchors": false,
   "latex_user_defs": false,
   "report_style_numbering": false,
   "user_envs_cfg": false
  },
  "nbTranslate": {
   "displayLangs": [
    "*"
   ],
   "hotkey": "alt-t",
   "langInMainMenu": true,
   "sourceLang": "en",
   "targetLang": "fr",
   "useGoogleTranslate": true
  },
  "toc": {
   "base_numbering": 1,
   "nav_menu": {},
   "number_sections": true,
   "sideBar": true,
   "skip_h1_title": false,
   "title_cell": "Table of Contents",
   "title_sidebar": "Contents",
   "toc_cell": false,
   "toc_position": {},
   "toc_section_display": true,
   "toc_window_display": false
  },
  "varInspector": {
   "cols": {
    "lenName": 16,
    "lenType": 16,
    "lenVar": 40
   },
   "kernels_config": {
    "python": {
     "delete_cmd_postfix": "",
     "delete_cmd_prefix": "del ",
     "library": "var_list.py",
     "varRefreshCmd": "print(var_dic_list())"
    },
    "r": {
     "delete_cmd_postfix": ") ",
     "delete_cmd_prefix": "rm(",
     "library": "var_list.r",
     "varRefreshCmd": "cat(var_dic_list()) "
    }
   },
   "types_to_exclude": [
    "module",
    "function",
    "builtin_function_or_method",
    "instance",
    "_Feature"
   ],
   "window_display": false
  }
 },
 "nbformat": 4,
 "nbformat_minor": 4
}
